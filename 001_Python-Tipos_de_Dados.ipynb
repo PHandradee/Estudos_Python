{
 "cells": [
  {
   "attachments": {},
   "cell_type": "markdown",
   "metadata": {},
   "source": [
    "## Tipos Numéricos"
   ]
  },
  {
   "attachments": {},
   "cell_type": "markdown",
   "metadata": {},
   "source": [
    "Em Python há dois tipos de dados numéricos, sendo eles Int para números inteiros e Float para números com pontos flutuantes (números decimais).\n",
    "\n",
    "Similar a matemática têm-se os operadores algébricos para realizar diversas operações matemáticas, entre os operadores temos:\n",
    "\n",
    "    - + -> adição;\n",
    "    - - -> subtração;\n",
    "    - * -> multiplicação;\n",
    "    - / -> divisão;\n",
    "    - ** -> exponenciação;\n",
    "    - // -> quociente inteiro de uma divisão;\n",
    "    - % -> resto de uma divisão. "
   ]
  },
  {
   "cell_type": "code",
   "execution_count": 4,
   "metadata": {},
   "outputs": [
    {
     "name": "stdout",
     "output_type": "stream",
     "text": [
      "4\n",
      "-2.0\n",
      "100\n",
      "2.0\n",
      "2.0\n",
      "9\n",
      "0\n",
      "5\n"
     ]
    }
   ],
   "source": [
    "print(1 + 3);\n",
    "print(1 - 3.0);\n",
    "print(4 * 25);\n",
    "print(4 / 2);\n",
    "print(4.0 / 2);\n",
    "print(3**2);\n",
    "print(10%2);\n",
    "print(10//2);"
   ]
  },
  {
   "attachments": {},
   "cell_type": "markdown",
   "metadata": {},
   "source": [
    "<b>Atenção!</b>\n",
    "\n",
    "Quando há uma adição, subtração e multiplicação entre números do tipo Int, o resultado será sempre um número int, a não ser no caso da divisão, que sempre irá retornar um número do tipo Float. Agora se for uma operação entre um número Int e Float, o resultado sempre será Float para todos os casos."
   ]
  },
  {
   "attachments": {},
   "cell_type": "markdown",
   "metadata": {},
   "source": [
    "A ordem de precedência das operações é similar a da matemática, sendo:\n",
    "\n",
    "    - 1°. Expressões entre parêntesis;\n",
    "    - 2°. Multiplicação e Divisão;\n",
    "    - 3°. Adição e subtração;\n",
    "    - 4°. Ordem da esquerda para direita; "
   ]
  },
  {
   "cell_type": "code",
   "execution_count": 18,
   "metadata": {},
   "outputs": [
    {
     "name": "stdout",
     "output_type": "stream",
     "text": [
      "30\n",
      "0.5\n",
      "-1\n",
      "15.0\n"
     ]
    }
   ],
   "source": [
    "print((5 + 5) * 3);\n",
    "print(2/(3 + 1));\n",
    "print( 2 - 1 * 3 );\n",
    "print(10/2 * 3);"
   ]
  },
  {
   "attachments": {},
   "cell_type": "markdown",
   "metadata": {},
   "source": [
    "Assim como na matemática uma função é representada como:\n",
    "f(x) = x + 1\n",
    "\n",
    "No qual o x é o argumento de entrada da função. \n",
    "\n",
    "Em Python também é possível ter funções, por exemplo a função abs(x) que retorna o valor absoluto (positivo) de um número. "
   ]
  },
  {
   "cell_type": "code",
   "execution_count": 5,
   "metadata": {},
   "outputs": [
    {
     "name": "stdout",
     "output_type": "stream",
     "text": [
      "3\n",
      "55\n",
      "2\n"
     ]
    }
   ],
   "source": [
    "print(abs(-3));\n",
    "print(abs(-55));\n",
    "print(abs(2));"
   ]
  },
  {
   "attachments": {},
   "cell_type": "markdown",
   "metadata": {},
   "source": [
    "Algumas outras funções são min() e max() que retornam o valor mínimo e máximo respectivamente entre os valores passados"
   ]
  },
  {
   "cell_type": "code",
   "execution_count": 10,
   "metadata": {},
   "outputs": [
    {
     "name": "stdout",
     "output_type": "stream",
     "text": [
      "1\n",
      "-3\n",
      "23\n",
      "-1\n",
      "10.3\n"
     ]
    }
   ],
   "source": [
    "print(min(1,23));\n",
    "print(min(-3,-1));\n",
    "print(max(1,23));\n",
    "print(max(-3,-1));\n",
    "print(max(3.7, 10.3, 1.1));"
   ]
  },
  {
   "attachments": {},
   "cell_type": "markdown",
   "metadata": {},
   "source": [
    "Problema Prático 2.1\n",
    "\n",
    "Escreva expressões algébricas Python correspondentes aos seguintes comandos:\n",
    "\n",
    "(a)A soma dos 5 primeiros inteiros positivos.\n",
    "\n",
    "(b)A idade média de Sara (idade 23), Mark (idade 19) e Fátima (idade 31).\n",
    "\n",
    "(c)O número de vezes que 73 cabe em 403.\n",
    "\n",
    "(d)O resto de quando 403 é dividido por 73.\n",
    "\n",
    "(e)2 à 10a potência.\n",
    "\n",
    "(f)O valor absoluto da distância entre a altura de Sara (54 polegadas) e a altura de Mark (57 polegadas).\n",
    "\n",
    "(g)O menor preço entre os seguintes preços: R$ 34,99, R$ 29,95 e R$ 31,50.\n",
    "\n",
    "Retirado de __[Introdução à Computação Usando Python - um Foco no Desenvolvimento de Aplicações](https://www.amazon.com.br/Introdução-Computação-Python-Desenvolvimento-Aplicações/dp/8521630816)__  pág. 18"
   ]
  },
  {
   "cell_type": "code",
   "execution_count": 19,
   "metadata": {},
   "outputs": [
    {
     "name": "stdout",
     "output_type": "stream",
     "text": [
      "a)  15\n",
      "b)  24.333333333333332\n",
      "c)  5\n",
      "d)  38\n",
      "e)  1024\n",
      "f)  3\n",
      "g)  29.95\n"
     ]
    }
   ],
   "source": [
    "#a)\n",
    "print(\"a) \", 1 + 2 + 3 + 4 + 5);\n",
    "\n",
    "#b)\n",
    "print(\"b) \", (23 + 19 + 31) / 3);\n",
    "\n",
    "#c)\n",
    "print(\"c) \", 403//73);\n",
    "\n",
    "#d)\n",
    "print(\"d) \", 403%73);\n",
    "\n",
    "#e)\n",
    "print(\"e) \", 2**10);\n",
    "\n",
    "#f)\n",
    "print(\"f) \", abs(54 - 57));\n",
    "\n",
    "#g)\n",
    "print(\"g) \", min(34.99, 29.95, 31.5));\n"
   ]
  },
  {
   "attachments": {},
   "cell_type": "markdown",
   "metadata": {},
   "source": [
    "### Operadores Lógicos\n",
    "\n",
    "São operadores que resultam em um valor Booleano, como verdadeiro ou falso.\n",
    "\n",
    "Em Python este tipo de dado é representado como bool e pode ter os valores True ou False, além de poder ser representando por números, sendo 1 ou 1.0 True e 0 como False. \n",
    "\n",
    "Exemplos de operadores lógicos são:\n",
    "\n",
    "    - > maior;\n",
    "    - >= maior igual;\n",
    "    - < menor;\n",
    "    - <= menor igual;\n",
    "    - == igual;\n",
    "    - != diferente;\n",
    "    - not negação;"
   ]
  },
  {
   "cell_type": "code",
   "execution_count": 24,
   "metadata": {},
   "outputs": [
    {
     "name": "stdout",
     "output_type": "stream",
     "text": [
      "True\n",
      "False\n",
      "True\n",
      "True\n",
      "True\n",
      "True\n"
     ]
    }
   ],
   "source": [
    "print(3 > 2);\n",
    "print(3 == 2);\n",
    "print(5 == 10/2);\n",
    "print(100 != 10);\n",
    "print(5 <= 7);\n",
    "print(not(5 < 3));"
   ]
  },
  {
   "attachments": {},
   "cell_type": "markdown",
   "metadata": {},
   "source": [
    "Traduza os comandos a seguir para expressões Booleanas em Python e avalie-as:\n",
    "\n",
    "(a)A soma de 2 e 2 é menor que 4.\n",
    "\n",
    "(b)O valor de 7 // 3 é igual a 1 + 1.\n",
    "\n",
    "(c)A soma de 3 ao quadrado e 4 ao quadrado é igual a 25.\n",
    "\n",
    "(d)A soma de 2, 4 e 6 é maior que 12.\n",
    "\n",
    "(e)1387 é divisível por 19.\n",
    "\n",
    "(f)31 é par. (Dica: o que o resto lhe diz quando você divide por 2?)\n",
    "\n",
    "(g)O preço mais baixo dentre R$ 34,99, R$ 29,95 e R$ 31,50 é menor que R$ 30,00.\n",
    "\n",
    "Retirado de __[Introdução à Computação Usando Python - um Foco no Desenvolvimento de Aplicações](https://www.amazon.com.br/Introdução-Computação-Python-Desenvolvimento-Aplicações/dp/8521630816)__  pág. 19"
   ]
  },
  {
   "cell_type": "code",
   "execution_count": 28,
   "metadata": {},
   "outputs": [
    {
     "name": "stdout",
     "output_type": "stream",
     "text": [
      "a)  False\n",
      "b)  True\n",
      "c)  True\n",
      "d)  False\n",
      "e)  True\n",
      "f)  False\n",
      "g)  True\n"
     ]
    }
   ],
   "source": [
    "#a)\n",
    "print(\"a) \", 2 + 2 < 4);\n",
    "\n",
    "#b)\n",
    "print(\"b) \", 7//3 == 1 + 1);\n",
    "\n",
    "#c)\n",
    "print(\"c) \", 3**2 + 4**2 == 25);\n",
    "\n",
    "#d)\n",
    "print(\"d) \", 2 + 4 + 6 > 12);\n",
    "\n",
    "#e)\n",
    "print(\"e) \", 1387%19 == 0);\n",
    "\n",
    "#f)\n",
    "print(\"f) \", 31%2 == 0);\n",
    "\n",
    "#g)\n",
    "print(\"g) \", min(34.99, 29.95, 31.5) < 30.00);\n"
   ]
  },
  {
   "attachments": {},
   "cell_type": "markdown",
   "metadata": {},
   "source": [
    "## Tipo String (Texto)"
   ]
  },
  {
   "attachments": {},
   "cell_type": "markdown",
   "metadata": {},
   "source": [
    "O tipo de dado String também representado como str é um tipo capaz de armazenar uma <b>cadeia de caracteres</b>, ou seja, um conjunto de caracteres que formam um texto. Para usá-lo basta colocar o texto desejado entre aspas duplas ou aspas simples."
   ]
  },
  {
   "cell_type": "code",
   "execution_count": 29,
   "metadata": {},
   "outputs": [
    {
     "name": "stdout",
     "output_type": "stream",
     "text": [
      "Olá Curioso!\n"
     ]
    }
   ],
   "source": [
    "print(\"Olá Curioso!\");"
   ]
  },
  {
   "attachments": {},
   "cell_type": "markdown",
   "metadata": {},
   "source": [
    "Também é possível usar alguns operadores aritméticos e lógicos em strings, tendo comportamentos diferentes, como:\n",
    "\n",
    "    - ==  -> verifica se as duas strings são iguais\n",
    "    - !=  -> verifica se as duas strings são diferentes\n",
    "    - >, < -> compara as duas strings na ordem do dicionário\n",
    "    - + -> concatena (junta) as duas strings\n",
    "    - * -> repete uma string por determindadas vezes, dada por um valor numérico\n",
    "    - in -> verifica se a string contém na outra string"
   ]
  },
  {
   "cell_type": "code",
   "execution_count": 33,
   "metadata": {},
   "outputs": [
    {
     "name": "stdout",
     "output_type": "stream",
     "text": [
      "oioioi\n",
      "False\n",
      "OláOi\n",
      "True\n",
      "True\n"
     ]
    }
   ],
   "source": [
    "print(3 * \"oi\");\n",
    "print(\"Oi\" == \"oi\");\n",
    "print(\"Olá\" + \"Oi\");\n",
    "print(\"Ola\" != \"Olá\");\n",
    "print(\"a\" in \"Ola\");"
   ]
  },
  {
   "attachments": {},
   "cell_type": "markdown",
   "metadata": {},
   "source": [
    "Problema Prático 2.4\n",
    "\n",
    "Comece executando as instruções de atribuição:\n",
    "\n",
    ">>> s1 = 'ant'\n",
    "\n",
    ">>> s2 = 'bat'\n",
    "\n",
    ">>> s3 = 'cod'\n",
    "\n",
    "Escreva expressões Python usando s1, s2 e s3 e os operadores + e * a fim de avaliar para:\n",
    "\n",
    "(a)'ant bat cod'\n",
    "\n",
    "(b)'ant ant ant ant ant ant ant ant ant ant'\n",
    "\n",
    "(c)'ant bat bat cod cod cod'\n",
    "\n",
    "(d)'ant bat ant bat ant bat ant bat ant bat ant bat ant bat'\n",
    "\n",
    "(e)'batbatcod batbatcod batbatcod batbatcod batbatcod'\n",
    "\n",
    "Retirado de __[Introdução à Computação Usando Python - um Foco no Desenvolvimento de Aplicações](https://www.amazon.com.br/Introdução-Computação-Python-Desenvolvimento-Aplicações/dp/8521630816)__  pág. 25"
   ]
  },
  {
   "cell_type": "code",
   "execution_count": 43,
   "metadata": {},
   "outputs": [
    {
     "name": "stdout",
     "output_type": "stream",
     "text": [
      "a)  ant bat cod\n",
      "b)  ant ant ant ant ant ant ant ant ant ant\n",
      "c)  ant bat bat cod cod cod\n",
      "d)  ant bat ant bat ant bat ant bat ant bat ant bat ant bat \n",
      "e)  batbatcod batbatcod batbatcod batbatcod batbatcod \n"
     ]
    }
   ],
   "source": [
    "#a)\n",
    "print(\"a) \", \"ant \" + \"bat \" + \"cod\");\n",
    "\n",
    "#b)\n",
    "print(\"b) \", \"ant\" + \" ant\" * 9);\n",
    "\n",
    "#c)\n",
    "print(\"c) \", \"ant \" + \"bat \" * 2 + \"cod\" + \" cod\" * 2);\n",
    "\n",
    "#d)\n",
    "print(\"d) \", (\"ant \" + \"bat \") * 7);\n",
    "\n",
    "#e)\n",
    "print(\"e) \", (\"bat\"*2+\"cod \")*5)"
   ]
  },
  {
   "attachments": {},
   "cell_type": "markdown",
   "metadata": {},
   "source": [
    "Como já dito uma string é uma <b>Cadeira de caracteres</b> sendo assim, é possível obter um caractere específico dessa string usando índices. Um índice é um número que representa a distância entre determinado caractere do primeiro caractere da cadeia, por exemplo:\n",
    "\n",
    "|O|l|á| |C|u|r|i|o|s|o|!|\n",
    "|-|-|-|-|-|-|-|-|-|-|-|-|\n",
    "|0|1|2|3|4|5|6|7|8|9|10|11|\n",
    "\n",
    "No exemplo o caractere \"C\" está no índice 4 da string \"Olá Curioso!\", ou seja, 4 é a distancia que \"C\" está de \"O\" que é o primeiro caractere da String.\n",
    "\n",
    "Para acessar um caractere específico de uma string é necessário usar o operador de indexação representado por []"
   ]
  },
  {
   "cell_type": "code",
   "execution_count": 46,
   "metadata": {},
   "outputs": [
    {
     "name": "stdout",
     "output_type": "stream",
     "text": [
      "C\n",
      "O\n",
      "i\n"
     ]
    }
   ],
   "source": [
    "print(\"Olá Curioso!\"[4]);\n",
    "print(\"Olá Curioso!\"[0]);\n",
    "print(\"Olá Curioso!\"[7]);"
   ]
  },
  {
   "attachments": {},
   "cell_type": "markdown",
   "metadata": {},
   "source": [
    "Também é possível pegar os caracteres começando pelo último elemento da cadeia, para isso usa-se índices negativos. O último elemento da cadeia sempre terá o índice -1"
   ]
  },
  {
   "cell_type": "code",
   "execution_count": 49,
   "metadata": {},
   "outputs": [
    {
     "name": "stdout",
     "output_type": "stream",
     "text": [
      "!\n",
      "s\n",
      "i\n"
     ]
    }
   ],
   "source": [
    "print(\"Olá Curioso!\"[-1]);\n",
    "print(\"Olá Curioso!\"[-3]);\n",
    "print(\"Olá Curioso!\"[-5]);"
   ]
  },
  {
   "attachments": {},
   "cell_type": "markdown",
   "metadata": {},
   "source": [
    "Escreva expressões usando a string '0123456789' e o operador de indexação que é avaliado como:\n",
    "\n",
    "(a)'0'\n",
    "\n",
    "(b)'1'\n",
    "\n",
    "(c)'6'\n",
    "\n",
    "(d)'8'\n",
    "\n",
    "(e)'9'\n",
    "\n",
    "Retirado de __[Introdução à Computação Usando Python - um Foco no Desenvolvimento de Aplicações](https://www.amazon.com.br/Introdução-Computação-Python-Desenvolvimento-Aplicações/dp/8521630816)__  pág. 26"
   ]
  },
  {
   "cell_type": "code",
   "execution_count": 51,
   "metadata": {},
   "outputs": [
    {
     "name": "stdout",
     "output_type": "stream",
     "text": [
      "a)  0\n",
      "b)  1\n",
      "c)  6\n",
      "d)  8\n",
      "e)  9\n"
     ]
    }
   ],
   "source": [
    "#a)\n",
    "print(\"a) \", \"0123456789\"[0]);\n",
    "\n",
    "#b)\n",
    "print(\"b) \", \"0123456789\"[1]);\n",
    "\n",
    "#c)\n",
    "print(\"c) \", \"0123456789\"[-4]);\n",
    "\n",
    "#d)\n",
    "print(\"d) \", \"0123456789\"[-2]);\n",
    "\n",
    "#e)\n",
    "print(\"e) \", \"0123456789\"[-1]);"
   ]
  },
  {
   "attachments": {},
   "cell_type": "markdown",
   "metadata": {},
   "source": [
    "## Listas"
   ]
  },
  {
   "attachments": {},
   "cell_type": "markdown",
   "metadata": {},
   "source": [
    "Listas são um tipo de objeto em Python capaz de armazenar uma sequência de objetos de qualquer tipo e até mesmo outras listas.\n",
    "\n",
    "Representado por uma lista de objetos separados por vírgula e entre colchecetes [], colchetes vazios representam uma lista vazia."
   ]
  },
  {
   "cell_type": "code",
   "execution_count": 2,
   "metadata": {},
   "outputs": [
    {
     "name": "stdout",
     "output_type": "stream",
     "text": [
      "[1, 'olá', 3.5, ['a', 'b', 7]]\n",
      "[]\n"
     ]
    }
   ],
   "source": [
    "print([1, \"olá\", 3.5, [\"a\", 'b',7]]);\n",
    "print([]);"
   ]
  },
  {
   "attachments": {},
   "cell_type": "markdown",
   "metadata": {},
   "source": [
    "Os operadores de listas são semelhantes aos operadores de Strings, como indexação, concatenação, \"in\" e etc, veja abaixo:\n",
    "\n",
    "|Uso|Explicação|\n",
    "|---|----------|\n",
    "|x in lst|Verdadeiro se o objeto x estiver na lista lst; caso contrário, falso|\n",
    "|x not in lst| Falso se o objeto x estiver na lista lst; caso contrário, verdadeiro |\n",
    "|lstA + lstB|Concatenação das listas lstA e lstB|\n",
    "|lst * n,n * lst|Concatenação de n cópias da lista lst|\n",
    "|lst[i]|Item no índice i da lista lst|\n",
    "|len(lst)|Comprimento da lista lst|\n",
    "|min(lst)|Menor item na lista lst|\n",
    "|max(lst)|Maior item na lista lst|\n",
    "|sum(lst)|Soma dos itens na lista lst|\n",
    "\n",
    "Retirado de __[Introdução à Computação Usando Python - um Foco no Desenvolvimento de Aplicações](https://www.amazon.com.br/Introdução-Computação-Python-Desenvolvimento-Aplicações/dp/8521630816)__  pág. 29\n"
   ]
  },
  {
   "attachments": {},
   "cell_type": "markdown",
   "metadata": {},
   "source": [
    "Problema Prático 2.6\n",
    "\n",
    "Primeiro, execute a atribuição\n",
    "\n",
    "palavras = ['taco', 'bola', 'celeiro', 'cesta', 'peteca']\n",
    "\n",
    "Agora, escreva duas expressões Python que são avaliadas, respectivamente, como a primeiro e a última palavras em palavras, na ordem do dicionário.\n",
    "\n",
    "Retirado de __[Introdução à Computação Usando Python - um Foco no Desenvolvimento de Aplicações](https://www.amazon.com.br/Introdução-Computação-Python-Desenvolvimento-Aplicações/dp/8521630816)__  pág. 29"
   ]
  },
  {
   "cell_type": "code",
   "execution_count": 3,
   "metadata": {},
   "outputs": [
    {
     "name": "stdout",
     "output_type": "stream",
     "text": [
      "taco peteca\n"
     ]
    }
   ],
   "source": [
    "print(['taco', 'bola', 'celeiro', 'cesta', 'peteca'][0], ['taco', 'bola', 'celeiro', 'cesta', 'peteca'][-1]) "
   ]
  },
  {
   "attachments": {},
   "cell_type": "markdown",
   "metadata": {},
   "source": [
    "Listas são mutáveis, ou seja, é possível alterar o valor dos elementos.\n",
    "\n",
    "Para isso, basta acessar o elemento que deseja alterar usando o operador de indexação e atribuir um novo valor a este elemento"
   ]
  },
  {
   "cell_type": "code",
   "execution_count": 5,
   "metadata": {},
   "outputs": [
    {
     "name": "stdout",
     "output_type": "stream",
     "text": [
      "['peixe', 'gato', 'cachorro']\n",
      "['passarinho', 'gato', 'cachorro']\n"
     ]
    }
   ],
   "source": [
    "a = [\"peixe\", \"gato\", \"cachorro\"];\n",
    "print(a);\n",
    "a[0] = \"passarinho\";\n",
    "print(a);"
   ]
  },
  {
   "attachments": {},
   "cell_type": "markdown",
   "metadata": {},
   "source": [
    "Porém strings não são mutáveis, então não tem como alterar um elemento da string assim como em listas."
   ]
  },
  {
   "cell_type": "code",
   "execution_count": 6,
   "metadata": {},
   "outputs": [
    {
     "ename": "TypeError",
     "evalue": "'str' object does not support item assignment",
     "output_type": "error",
     "traceback": [
      "\u001b[0;31m---------------------------------------------------------------------------\u001b[0m",
      "\u001b[0;31mTypeError\u001b[0m                                 Traceback (most recent call last)",
      "Cell \u001b[0;32mIn[6], line 2\u001b[0m\n\u001b[1;32m      1\u001b[0m b \u001b[39m=\u001b[39m \u001b[39m\"\u001b[39m\u001b[39mcachorro\u001b[39m\u001b[39m\"\u001b[39m;\n\u001b[0;32m----> 2\u001b[0m b[\u001b[39m0\u001b[39;49m] \u001b[39m=\u001b[39m \u001b[39m\"\u001b[39m\u001b[39mC\u001b[39m\u001b[39m\"\u001b[39m;\n",
      "\u001b[0;31mTypeError\u001b[0m: 'str' object does not support item assignment"
     ]
    }
   ],
   "source": [
    "b = \"cachorro\";\n",
    "b[0] = \"C\";"
   ]
  },
  {
   "attachments": {},
   "cell_type": "markdown",
   "metadata": {},
   "source": [
    "<b>Métodos de Strings</b>:\n",
    "\n",
    "Métodos são basicamente funções que pertencem a um determinado tipo de dado, para usar um método é só colocar um .(ponto) seguido do método desejado, exemplo:"
   ]
  },
  {
   "cell_type": "code",
   "execution_count": 9,
   "metadata": {},
   "outputs": [
    {
     "name": "stdout",
     "output_type": "stream",
     "text": [
      "1\n"
     ]
    }
   ],
   "source": [
    "print([\"peixe\", \"gato\", \"cachorro\"].count(\"peixe\"));"
   ]
  },
  {
   "attachments": {},
   "cell_type": "markdown",
   "metadata": {},
   "source": [
    "Neste exemplo foi o usado o método count, que é uma função que pertence ao tipo de dado list. Este método conta a quantidade de elementos x que contém na lista.\n",
    "\n",
    "Cada tipo de dado tem seus métodos, para mais detalhes dos métodos que cada tipo contém basta usar o help(tipoDeDado)."
   ]
  },
  {
   "cell_type": "code",
   "execution_count": 10,
   "metadata": {},
   "outputs": [
    {
     "name": "stdout",
     "output_type": "stream",
     "text": [
      "Help on class list in module builtins:\n",
      "\n",
      "class list(object)\n",
      " |  list(iterable=(), /)\n",
      " |  \n",
      " |  Built-in mutable sequence.\n",
      " |  \n",
      " |  If no argument is given, the constructor creates a new empty list.\n",
      " |  The argument must be an iterable if specified.\n",
      " |  \n",
      " |  Methods defined here:\n",
      " |  \n",
      " |  __add__(self, value, /)\n",
      " |      Return self+value.\n",
      " |  \n",
      " |  __contains__(self, key, /)\n",
      " |      Return key in self.\n",
      " |  \n",
      " |  __delitem__(self, key, /)\n",
      " |      Delete self[key].\n",
      " |  \n",
      " |  __eq__(self, value, /)\n",
      " |      Return self==value.\n",
      " |  \n",
      " |  __ge__(self, value, /)\n",
      " |      Return self>=value.\n",
      " |  \n",
      " |  __getattribute__(self, name, /)\n",
      " |      Return getattr(self, name).\n",
      " |  \n",
      " |  __getitem__(...)\n",
      " |      x.__getitem__(y) <==> x[y]\n",
      " |  \n",
      " |  __gt__(self, value, /)\n",
      " |      Return self>value.\n",
      " |  \n",
      " |  __iadd__(self, value, /)\n",
      " |      Implement self+=value.\n",
      " |  \n",
      " |  __imul__(self, value, /)\n",
      " |      Implement self*=value.\n",
      " |  \n",
      " |  __init__(self, /, *args, **kwargs)\n",
      " |      Initialize self.  See help(type(self)) for accurate signature.\n",
      " |  \n",
      " |  __iter__(self, /)\n",
      " |      Implement iter(self).\n",
      " |  \n",
      " |  __le__(self, value, /)\n",
      " |      Return self<=value.\n",
      " |  \n",
      " |  __len__(self, /)\n",
      " |      Return len(self).\n",
      " |  \n",
      " |  __lt__(self, value, /)\n",
      " |      Return self<value.\n",
      " |  \n",
      " |  __mul__(self, value, /)\n",
      " |      Return self*value.\n",
      " |  \n",
      " |  __ne__(self, value, /)\n",
      " |      Return self!=value.\n",
      " |  \n",
      " |  __repr__(self, /)\n",
      " |      Return repr(self).\n",
      " |  \n",
      " |  __reversed__(self, /)\n",
      " |      Return a reverse iterator over the list.\n",
      " |  \n",
      " |  __rmul__(self, value, /)\n",
      " |      Return value*self.\n",
      " |  \n",
      " |  __setitem__(self, key, value, /)\n",
      " |      Set self[key] to value.\n",
      " |  \n",
      " |  __sizeof__(self, /)\n",
      " |      Return the size of the list in memory, in bytes.\n",
      " |  \n",
      " |  append(self, object, /)\n",
      " |      Append object to the end of the list.\n",
      " |  \n",
      " |  clear(self, /)\n",
      " |      Remove all items from list.\n",
      " |  \n",
      " |  copy(self, /)\n",
      " |      Return a shallow copy of the list.\n",
      " |  \n",
      " |  count(self, value, /)\n",
      " |      Return number of occurrences of value.\n",
      " |  \n",
      " |  extend(self, iterable, /)\n",
      " |      Extend list by appending elements from the iterable.\n",
      " |  \n",
      " |  index(self, value, start=0, stop=9223372036854775807, /)\n",
      " |      Return first index of value.\n",
      " |      \n",
      " |      Raises ValueError if the value is not present.\n",
      " |  \n",
      " |  insert(self, index, object, /)\n",
      " |      Insert object before index.\n",
      " |  \n",
      " |  pop(self, index=-1, /)\n",
      " |      Remove and return item at index (default last).\n",
      " |      \n",
      " |      Raises IndexError if list is empty or index is out of range.\n",
      " |  \n",
      " |  remove(self, value, /)\n",
      " |      Remove first occurrence of value.\n",
      " |      \n",
      " |      Raises ValueError if the value is not present.\n",
      " |  \n",
      " |  reverse(self, /)\n",
      " |      Reverse *IN PLACE*.\n",
      " |  \n",
      " |  sort(self, /, *, key=None, reverse=False)\n",
      " |      Sort the list in ascending order and return None.\n",
      " |      \n",
      " |      The sort is in-place (i.e. the list itself is modified) and stable (i.e. the\n",
      " |      order of two equal elements is maintained).\n",
      " |      \n",
      " |      If a key function is given, apply it once to each list item and sort them,\n",
      " |      ascending or descending, according to their function values.\n",
      " |      \n",
      " |      The reverse flag can be set to sort in descending order.\n",
      " |  \n",
      " |  ----------------------------------------------------------------------\n",
      " |  Class methods defined here:\n",
      " |  \n",
      " |  __class_getitem__(...) from builtins.type\n",
      " |      See PEP 585\n",
      " |  \n",
      " |  ----------------------------------------------------------------------\n",
      " |  Static methods defined here:\n",
      " |  \n",
      " |  __new__(*args, **kwargs) from builtins.type\n",
      " |      Create and return a new object.  See help(type) for accurate signature.\n",
      " |  \n",
      " |  ----------------------------------------------------------------------\n",
      " |  Data and other attributes defined here:\n",
      " |  \n",
      " |  __hash__ = None\n",
      "\n"
     ]
    }
   ],
   "source": [
    "help(list)"
   ]
  },
  {
   "attachments": {},
   "cell_type": "markdown",
   "metadata": {},
   "source": [
    "Segue um exemplo de alguns métodos de list:\n",
    "\n",
    "|Uso|Explicação|\n",
    "|---|----------|\n",
    "|lst.append(item)| Inclui itens ao final da lista lst|\n",
    "|lst.count(item)| Retorna o número de ocorrências de item na lista lst|\n",
    "|lst.index(item)|Retorna o índice da primeira ocorrência do item na lista lst|\n",
    "|lst.insert(índice, item)| Insere item na lista imediatamente antes do índice|\n",
    "|lst.pop()|Remove o último item na lista|\n",
    "|lst.remove(item)|Remove a primeira ocorrência do item na lista|\n",
    "|lst.reverse()|Inverte a ordem dos itens na lista|\n",
    "|lst.sort()|Classifica a lista|\n",
    "\n",
    "Retirado de __[Introdução à Computação Usando Python - um Foco no Desenvolvimento de Aplicações](https://www.amazon.com.br/Introdução-Computação-Python-Desenvolvimento-Aplicações/dp/8521630816)__  pág. 30"
   ]
  },
  {
   "attachments": {},
   "cell_type": "markdown",
   "metadata": {},
   "source": [
    "Problema Prático 2.7\n",
    "\n",
    "Dada a lista de notas de trabalho de casa dos alunos\n",
    "\n",
    ">>> notas = [9, 7, 7, 10, 3, 9, 6, 6, 2]\n",
    "\n",
    "escreva:\n",
    "\n",
    "(a)Uma expressão que avalia para o número de 7 notas.\n",
    "\n",
    "(b)Uma instrução que muda a última nota para 4.\n",
    "\n",
    "(c)Uma expressão que avalia para a nota mais alta.\n",
    "\n",
    "(d)Uma instrução que classifica as notas da lista.\n",
    "\n",
    "(e)Uma expressão que avalia para a média das notas.\n",
    "\n",
    "Retirado de __[Introdução à Computação Usando Python - um Foco no Desenvolvimento de Aplicações](https://www.amazon.com.br/Introdução-Computação-Python-Desenvolvimento-Aplicações/dp/8521630816)__  pág. 31"
   ]
  },
  {
   "cell_type": "code",
   "execution_count": 16,
   "metadata": {},
   "outputs": [
    {
     "name": "stdout",
     "output_type": "stream",
     "text": [
      "a)  7\n",
      "b)  [9, 7, 7, 10, 3, 9, 6, 6, 4]\n",
      "c)  10\n",
      "d)  [3, 4, 6, 6, 7, 7, 9, 9, 10]\n",
      "e)  6.777777777777778\n"
     ]
    }
   ],
   "source": [
    "notas = [9, 7, 7, 10, 3, 9, 6, 6, 2]\n",
    "\n",
    "#a)\n",
    "print(\"a) \", notas[notas.index(7)]);\n",
    "\n",
    "#b)\n",
    "notas[-1] = 4;\n",
    "print(\"b) \", notas);\n",
    "\n",
    "#c)\n",
    "print(\"c) \", max(notas));\n",
    "\n",
    "#d)\n",
    "notas.sort()\n",
    "print(\"d) \", notas);\n",
    "\n",
    "#e)\n",
    "print(\"e) \", sum(notas)/len(notas));"
   ]
  },
  {
   "attachments": {},
   "cell_type": "markdown",
   "metadata": {},
   "source": [
    "Extra:\n",
    "\n",
    "Em Python cada valor, seja ele de qualquer tipo é armazenado na memória como um objeto. Cada objeto tem sempre um tipo e um valor, uma variável é um referência a este objeto. "
   ]
  },
  {
   "cell_type": "code",
   "execution_count": null,
   "metadata": {},
   "outputs": [],
   "source": []
  }
 ],
 "metadata": {
  "kernelspec": {
   "display_name": "venv",
   "language": "python",
   "name": "python3"
  },
  "language_info": {
   "codemirror_mode": {
    "name": "ipython",
    "version": 3
   },
   "file_extension": ".py",
   "mimetype": "text/x-python",
   "name": "python",
   "nbconvert_exporter": "python",
   "pygments_lexer": "ipython3",
   "version": "3.10.7"
  },
  "orig_nbformat": 4
 },
 "nbformat": 4,
 "nbformat_minor": 2
}
