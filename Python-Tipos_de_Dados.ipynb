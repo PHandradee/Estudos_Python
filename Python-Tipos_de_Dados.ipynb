{
 "cells": [
  {
   "attachments": {},
   "cell_type": "markdown",
   "metadata": {},
   "source": [
    "## Tipos Numéricos\n",
    "\n",
    "Em Python há dois tipos de dados numéricos, sendo eles Int para números inteiros e Float para números com pontos flutuantes (números decimais).\n",
    "\n",
    "Similar a matemática têm-se os operadores algébricos para realizar diversas operações matemáticas, entre os operadores temos:\n",
    "\n",
    "    - + -> adição;\n",
    "    - - -> subtração;\n",
    "    - * -> multiplicação;\n",
    "    - / -> divisão;\n",
    "    - ** -> exponenciação;\n",
    "    - // -> quociente inteiro de uma divisão;\n",
    "    - % -> resto de uma divisão. "
   ]
  },
  {
   "cell_type": "code",
   "execution_count": 4,
   "metadata": {},
   "outputs": [
    {
     "name": "stdout",
     "output_type": "stream",
     "text": [
      "4\n",
      "-2.0\n",
      "100\n",
      "2.0\n",
      "2.0\n",
      "9\n",
      "0\n",
      "5\n"
     ]
    }
   ],
   "source": [
    "print(1 + 3);\n",
    "print(1 - 3.0);\n",
    "print(4 * 25);\n",
    "print(4 / 2);\n",
    "print(4.0 / 2);\n",
    "print(3**2);\n",
    "print(10%2);\n",
    "print(10//2);"
   ]
  },
  {
   "attachments": {},
   "cell_type": "markdown",
   "metadata": {},
   "source": [
    "<b>Atenção!</b>\n",
    "\n",
    "Quando há uma adição, subtração e multiplicação entre números do tipo Int, o resultado será sempre um número int, a não ser no caso da divisão, que sempre irá retornar um número do tipo Float. Agora se for uma operação entre um número Int e Float, o resultado sempre será Float para todos os casos."
   ]
  },
  {
   "attachments": {},
   "cell_type": "markdown",
   "metadata": {},
   "source": [
    "A ordem de precedência das operações é similar a da matemática, sendo:\n",
    "\n",
    "    - 1°. Expressões entre parêntesis;\n",
    "    - 2°. Multiplicação e Divisão;\n",
    "    - 3°. Adição e subtração;\n",
    "    - 4°. Ordem da esquerda para direita; "
   ]
  },
  {
   "attachments": {},
   "cell_type": "markdown",
   "metadata": {},
   "source": [
    "Assim como na matemática uma função é representada como:\n",
    "f(x) = x + 1\n",
    "\n",
    "No qual o x é o argumento de entrada da função. \n",
    "\n",
    "Em Python também é possível ter funções, por exemplo a função abs(x) que retorna o valor absoluto (positivo) de um número. "
   ]
  },
  {
   "cell_type": "code",
   "execution_count": 5,
   "metadata": {},
   "outputs": [
    {
     "name": "stdout",
     "output_type": "stream",
     "text": [
      "3\n",
      "55\n",
      "2\n"
     ]
    }
   ],
   "source": [
    "print(abs(-3));\n",
    "print(abs(-55));\n",
    "print(abs(2));"
   ]
  },
  {
   "attachments": {},
   "cell_type": "markdown",
   "metadata": {},
   "source": [
    "Algumas outras funções são min() e max() que retornam o valor mínimo e máximo respectivamente entre os valores passados"
   ]
  },
  {
   "cell_type": "code",
   "execution_count": 10,
   "metadata": {},
   "outputs": [
    {
     "name": "stdout",
     "output_type": "stream",
     "text": [
      "1\n",
      "-3\n",
      "23\n",
      "-1\n",
      "10.3\n"
     ]
    }
   ],
   "source": [
    "print(min(1,23));\n",
    "print(min(-3,-1));\n",
    "print(max(1,23));\n",
    "print(max(-3,-1));\n",
    "print(max(3.7, 10.3, 1.1));"
   ]
  },
  {
   "attachments": {},
   "cell_type": "markdown",
   "metadata": {},
   "source": [
    "Problema Prático 2.1\n",
    "\n",
    "Escreva expressões algébricas Python correspondentes aos seguintes comandos:\n",
    "\n",
    "(a)A soma dos 5 primeiros inteiros positivos.\n",
    "\n",
    "(b)A idade média de Sara (idade 23), Mark (idade 19) e Fátima (idade 31).\n",
    "\n",
    "(c)O número de vezes que 73 cabe em 403.\n",
    "\n",
    "(d)O resto de quando 403 é dividido por 73.\n",
    "\n",
    "(e)2 à 10a potência.\n",
    "\n",
    "(f)O valor absoluto da distância entre a altura de Sara (54 polegadas) e a altura de Mark (57 polegadas).\n",
    "\n",
    "(g)O menor preço entre os seguintes preços: R$ 34,99, R$ 29,95 e R$ 31,50.\n",
    "\n",
    "Retirado de __[Introdução à Computação Usando Python - um Foco no Desenvolvimento de Aplicações](https://www.amazon.com.br/Introdução-Computação-Python-Desenvolvimento-Aplicações/dp/8521630816)__  pág. 18"
   ]
  },
  {
   "cell_type": "code",
   "execution_count": 12,
   "metadata": {},
   "outputs": [
    {
     "name": "stdout",
     "output_type": "stream",
     "text": [
      "a)  15\n",
      "b)  24.333333333333332\n"
     ]
    }
   ],
   "source": [
    "#a)\n",
    "print(\"a) \", 1 + 2 + 3 + 4 + 5);\n",
    "\n",
    "#b)\n",
    "print(\"b) \", (23 + 19 + 31) / 3);"
   ]
  },
  {
   "cell_type": "code",
   "execution_count": null,
   "metadata": {},
   "outputs": [],
   "source": []
  }
 ],
 "metadata": {
  "kernelspec": {
   "display_name": "venv",
   "language": "python",
   "name": "python3"
  },
  "language_info": {
   "codemirror_mode": {
    "name": "ipython",
    "version": 3
   },
   "file_extension": ".py",
   "mimetype": "text/x-python",
   "name": "python",
   "nbconvert_exporter": "python",
   "pygments_lexer": "ipython3",
   "version": "3.10.7"
  },
  "orig_nbformat": 4
 },
 "nbformat": 4,
 "nbformat_minor": 2
}
