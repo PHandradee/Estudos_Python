{
 "cells": [
  {
   "attachments": {},
   "cell_type": "markdown",
   "metadata": {},
   "source": [
    "## Tipos Numéricos"
   ]
  },
  {
   "attachments": {},
   "cell_type": "markdown",
   "metadata": {},
   "source": [
    "Em Python há dois tipos de dados numéricos, sendo eles Int para números inteiros e Float para números com pontos flutuantes (números decimais).\n",
    "\n",
    "Similar a matemática têm-se os operadores algébricos para realizar diversas operações matemáticas, entre os operadores temos:\n",
    "\n",
    "    - + -> adição;\n",
    "    - - -> subtração;\n",
    "    - * -> multiplicação;\n",
    "    - / -> divisão;\n",
    "    - ** -> exponenciação;\n",
    "    - // -> quociente inteiro de uma divisão;\n",
    "    - % -> resto de uma divisão. "
   ]
  },
  {
   "cell_type": "code",
   "execution_count": 4,
   "metadata": {},
   "outputs": [
    {
     "name": "stdout",
     "output_type": "stream",
     "text": [
      "4\n",
      "-2.0\n",
      "100\n",
      "2.0\n",
      "2.0\n",
      "9\n",
      "0\n",
      "5\n"
     ]
    }
   ],
   "source": [
    "print(1 + 3);\n",
    "print(1 - 3.0);\n",
    "print(4 * 25);\n",
    "print(4 / 2);\n",
    "print(4.0 / 2);\n",
    "print(3**2);\n",
    "print(10%2);\n",
    "print(10//2);"
   ]
  },
  {
   "attachments": {},
   "cell_type": "markdown",
   "metadata": {},
   "source": [
    "<b>Atenção!</b>\n",
    "\n",
    "Quando há uma adição, subtração e multiplicação entre números do tipo Int, o resultado será sempre um número int, a não ser no caso da divisão, que sempre irá retornar um número do tipo Float. Agora se for uma operação entre um número Int e Float, o resultado sempre será Float para todos os casos."
   ]
  },
  {
   "attachments": {},
   "cell_type": "markdown",
   "metadata": {},
   "source": [
    "A ordem de precedência das operações é similar a da matemática, sendo:\n",
    "\n",
    "    - 1°. Expressões entre parêntesis;\n",
    "    - 2°. Multiplicação e Divisão;\n",
    "    - 3°. Adição e subtração;\n",
    "    - 4°. Ordem da esquerda para direita; "
   ]
  },
  {
   "cell_type": "code",
   "execution_count": 18,
   "metadata": {},
   "outputs": [
    {
     "name": "stdout",
     "output_type": "stream",
     "text": [
      "30\n",
      "0.5\n",
      "-1\n",
      "15.0\n"
     ]
    }
   ],
   "source": [
    "print((5 + 5) * 3);\n",
    "print(2/(3 + 1));\n",
    "print( 2 - 1 * 3 );\n",
    "print(10/2 * 3);"
   ]
  },
  {
   "attachments": {},
   "cell_type": "markdown",
   "metadata": {},
   "source": [
    "Assim como na matemática uma função é representada como:\n",
    "f(x) = x + 1\n",
    "\n",
    "No qual o x é o argumento de entrada da função. \n",
    "\n",
    "Em Python também é possível ter funções, por exemplo a função abs(x) que retorna o valor absoluto (positivo) de um número. "
   ]
  },
  {
   "cell_type": "code",
   "execution_count": 5,
   "metadata": {},
   "outputs": [
    {
     "name": "stdout",
     "output_type": "stream",
     "text": [
      "3\n",
      "55\n",
      "2\n"
     ]
    }
   ],
   "source": [
    "print(abs(-3));\n",
    "print(abs(-55));\n",
    "print(abs(2));"
   ]
  },
  {
   "attachments": {},
   "cell_type": "markdown",
   "metadata": {},
   "source": [
    "Algumas outras funções são min() e max() que retornam o valor mínimo e máximo respectivamente entre os valores passados"
   ]
  },
  {
   "cell_type": "code",
   "execution_count": 10,
   "metadata": {},
   "outputs": [
    {
     "name": "stdout",
     "output_type": "stream",
     "text": [
      "1\n",
      "-3\n",
      "23\n",
      "-1\n",
      "10.3\n"
     ]
    }
   ],
   "source": [
    "print(min(1,23));\n",
    "print(min(-3,-1));\n",
    "print(max(1,23));\n",
    "print(max(-3,-1));\n",
    "print(max(3.7, 10.3, 1.1));"
   ]
  },
  {
   "attachments": {},
   "cell_type": "markdown",
   "metadata": {},
   "source": [
    "Problema Prático 2.1\n",
    "\n",
    "Escreva expressões algébricas Python correspondentes aos seguintes comandos:\n",
    "\n",
    "(a)A soma dos 5 primeiros inteiros positivos.\n",
    "\n",
    "(b)A idade média de Sara (idade 23), Mark (idade 19) e Fátima (idade 31).\n",
    "\n",
    "(c)O número de vezes que 73 cabe em 403.\n",
    "\n",
    "(d)O resto de quando 403 é dividido por 73.\n",
    "\n",
    "(e)2 à 10a potência.\n",
    "\n",
    "(f)O valor absoluto da distância entre a altura de Sara (54 polegadas) e a altura de Mark (57 polegadas).\n",
    "\n",
    "(g)O menor preço entre os seguintes preços: R$ 34,99, R$ 29,95 e R$ 31,50.\n",
    "\n",
    "Retirado de __[Introdução à Computação Usando Python - um Foco no Desenvolvimento de Aplicações](https://www.amazon.com.br/Introdução-Computação-Python-Desenvolvimento-Aplicações/dp/8521630816)__  pág. 18"
   ]
  },
  {
   "cell_type": "code",
   "execution_count": 19,
   "metadata": {},
   "outputs": [
    {
     "name": "stdout",
     "output_type": "stream",
     "text": [
      "a)  15\n",
      "b)  24.333333333333332\n",
      "c)  5\n",
      "d)  38\n",
      "e)  1024\n",
      "f)  3\n",
      "g)  29.95\n"
     ]
    }
   ],
   "source": [
    "#a)\n",
    "print(\"a) \", 1 + 2 + 3 + 4 + 5);\n",
    "\n",
    "#b)\n",
    "print(\"b) \", (23 + 19 + 31) / 3);\n",
    "\n",
    "#c)\n",
    "print(\"c) \", 403//73);\n",
    "\n",
    "#d)\n",
    "print(\"d) \", 403%73);\n",
    "\n",
    "#e)\n",
    "print(\"e) \", 2**10);\n",
    "\n",
    "#f)\n",
    "print(\"f) \", abs(54 - 57));\n",
    "\n",
    "#g)\n",
    "print(\"g) \", min(34.99, 29.95, 31.5));\n"
   ]
  },
  {
   "attachments": {},
   "cell_type": "markdown",
   "metadata": {},
   "source": [
    "### Operadores Lógicos\n",
    "\n",
    "São operadores que resultam em um valor Booleano, como verdadeiro ou falso.\n",
    "\n",
    "Em Python este tipo de dado é representado como bool e pode ter os valores True ou False, além de poder ser representando por números, sendo 1 ou 1.0 True e 0 como False. \n",
    "\n",
    "Exemplos de operadores lógicos são:\n",
    "\n",
    "    - > maior;\n",
    "    - >= maior igual;\n",
    "    - < menor;\n",
    "    - <= menor igual;\n",
    "    - == igual;\n",
    "    - != diferente;\n",
    "    - not negação;"
   ]
  },
  {
   "cell_type": "code",
   "execution_count": 24,
   "metadata": {},
   "outputs": [
    {
     "name": "stdout",
     "output_type": "stream",
     "text": [
      "True\n",
      "False\n",
      "True\n",
      "True\n",
      "True\n",
      "True\n"
     ]
    }
   ],
   "source": [
    "print(3 > 2);\n",
    "print(3 == 2);\n",
    "print(5 == 10/2);\n",
    "print(100 != 10);\n",
    "print(5 <= 7);\n",
    "print(not(5 < 3));"
   ]
  },
  {
   "attachments": {},
   "cell_type": "markdown",
   "metadata": {},
   "source": [
    "Traduza os comandos a seguir para expressões Booleanas em Python e avalie-as:\n",
    "\n",
    "(a)A soma de 2 e 2 é menor que 4.\n",
    "\n",
    "(b)O valor de 7 // 3 é igual a 1 + 1.\n",
    "\n",
    "(c)A soma de 3 ao quadrado e 4 ao quadrado é igual a 25.\n",
    "\n",
    "(d)A soma de 2, 4 e 6 é maior que 12.\n",
    "\n",
    "(e)1387 é divisível por 19.\n",
    "\n",
    "(f)31 é par. (Dica: o que o resto lhe diz quando você divide por 2?)\n",
    "\n",
    "(g)O preço mais baixo dentre R$ 34,99, R$ 29,95 e R$ 31,50 é menor que R$ 30,00.\n",
    "\n",
    "Retirado de __[Introdução à Computação Usando Python - um Foco no Desenvolvimento de Aplicações](https://www.amazon.com.br/Introdução-Computação-Python-Desenvolvimento-Aplicações/dp/8521630816)__  pág. 19"
   ]
  },
  {
   "cell_type": "code",
   "execution_count": 28,
   "metadata": {},
   "outputs": [
    {
     "name": "stdout",
     "output_type": "stream",
     "text": [
      "a)  False\n",
      "b)  True\n",
      "c)  True\n",
      "d)  False\n",
      "e)  True\n",
      "f)  False\n",
      "g)  True\n"
     ]
    }
   ],
   "source": [
    "#a)\n",
    "print(\"a) \", 2 + 2 < 4);\n",
    "\n",
    "#b)\n",
    "print(\"b) \", 7//3 == 1 + 1);\n",
    "\n",
    "#c)\n",
    "print(\"c) \", 3**2 + 4**2 == 25);\n",
    "\n",
    "#d)\n",
    "print(\"d) \", 2 + 4 + 6 > 12);\n",
    "\n",
    "#e)\n",
    "print(\"e) \", 1387%19 == 0);\n",
    "\n",
    "#f)\n",
    "print(\"f) \", 31%2 == 0);\n",
    "\n",
    "#g)\n",
    "print(\"g) \", min(34.99, 29.95, 31.5) < 30.00);\n"
   ]
  },
  {
   "attachments": {},
   "cell_type": "markdown",
   "metadata": {},
   "source": [
    "## Tipo String (Texto)"
   ]
  },
  {
   "attachments": {},
   "cell_type": "markdown",
   "metadata": {},
   "source": [
    "O tipo de dado String também representado como str é um tipo capaz de armazenar uma <b>cadeia de caracteres</b>, ou seja, um conjunto de caracteres que formam um texto. Para usá-lo basta colocar o texto desejado entre aspas duplas ou aspas simples."
   ]
  },
  {
   "cell_type": "code",
   "execution_count": 29,
   "metadata": {},
   "outputs": [
    {
     "name": "stdout",
     "output_type": "stream",
     "text": [
      "Olá Curioso!\n"
     ]
    }
   ],
   "source": [
    "print(\"Olá Curioso!\");"
   ]
  },
  {
   "attachments": {},
   "cell_type": "markdown",
   "metadata": {},
   "source": [
    "Também é possível usar alguns operadores aritméticos e lógicos em strings, tendo comportamentos diferentes, como:\n",
    "\n",
    "    - ==  -> verifica se as duas strings são iguais\n",
    "    - !=  -> verifica se as duas strings são diferentes\n",
    "    - >, < -> compara as duas strings na ordem do dicionário\n",
    "    - + -> concatena (junta) as duas strings\n",
    "    - * -> repete uma string por determindadas vezes, dada por um valor numérico\n",
    "    - in -> verifica se a string contém na outra string"
   ]
  },
  {
   "cell_type": "code",
   "execution_count": 33,
   "metadata": {},
   "outputs": [
    {
     "name": "stdout",
     "output_type": "stream",
     "text": [
      "oioioi\n",
      "False\n",
      "OláOi\n",
      "True\n",
      "True\n"
     ]
    }
   ],
   "source": [
    "print(3 * \"oi\");\n",
    "print(\"Oi\" == \"oi\");\n",
    "print(\"Olá\" + \"Oi\");\n",
    "print(\"Ola\" != \"Olá\");\n",
    "print(\"a\" in \"Ola\");"
   ]
  },
  {
   "attachments": {},
   "cell_type": "markdown",
   "metadata": {},
   "source": [
    "Problema Prático 2.4\n",
    "\n",
    "Comece executando as instruções de atribuição:\n",
    "\n",
    ">>> s1 = 'ant'\n",
    "\n",
    ">>> s2 = 'bat'\n",
    "\n",
    ">>> s3 = 'cod'\n",
    "\n",
    "Escreva expressões Python usando s1, s2 e s3 e os operadores + e * a fim de avaliar para:\n",
    "\n",
    "(a)'ant bat cod'\n",
    "\n",
    "(b)'ant ant ant ant ant ant ant ant ant ant'\n",
    "\n",
    "(c)'ant bat bat cod cod cod'\n",
    "\n",
    "(d)'ant bat ant bat ant bat ant bat ant bat ant bat ant bat'\n",
    "\n",
    "(e)'batbatcod batbatcod batbatcod batbatcod batbatcod'\n",
    "\n",
    "Retirado de __[Introdução à Computação Usando Python - um Foco no Desenvolvimento de Aplicações](https://www.amazon.com.br/Introdução-Computação-Python-Desenvolvimento-Aplicações/dp/8521630816)__  pág. 25"
   ]
  },
  {
   "cell_type": "code",
   "execution_count": 43,
   "metadata": {},
   "outputs": [
    {
     "name": "stdout",
     "output_type": "stream",
     "text": [
      "a)  ant bat cod\n",
      "b)  ant ant ant ant ant ant ant ant ant ant\n",
      "c)  ant bat bat cod cod cod\n",
      "d)  ant bat ant bat ant bat ant bat ant bat ant bat ant bat \n",
      "e)  batbatcod batbatcod batbatcod batbatcod batbatcod \n"
     ]
    }
   ],
   "source": [
    "#a)\n",
    "print(\"a) \", \"ant \" + \"bat \" + \"cod\");\n",
    "\n",
    "#b)\n",
    "print(\"b) \", \"ant\" + \" ant\" * 9);\n",
    "\n",
    "#c)\n",
    "print(\"c) \", \"ant \" + \"bat \" * 2 + \"cod\" + \" cod\" * 2);\n",
    "\n",
    "#d)\n",
    "print(\"d) \", (\"ant \" + \"bat \") * 7);\n",
    "\n",
    "#e)\n",
    "print(\"e) \", (\"bat\"*2+\"cod \")*5)"
   ]
  },
  {
   "attachments": {},
   "cell_type": "markdown",
   "metadata": {},
   "source": [
    "Como já dito uma string é uma <b>Cadeira de caracteres</b> sendo assim, é possível obter um caractere específico dessa string usando índices. Um índice é um número que representa a distância entre determinado caractere do primeiro caractere da cadeia, por exemplo:\n",
    "\n",
    "|O|l|á| |C|u|r|i|o|s|o|!|\n",
    "|-|-|-|-|-|-|-|-|-|-|-|-|\n",
    "|0|1|2|3|4|5|6|7|8|9|10|11|\n",
    "\n",
    "No exemplo o caractere \"C\" está no índice 4 da string \"Olá Curioso!\", ou seja, 4 é a distancia que \"C\" está de \"O\" que é o primeiro caractere da String.\n",
    "\n",
    "Para acessar um caractere específico de uma string é necessário usar o operador de indexação representado por []"
   ]
  },
  {
   "cell_type": "code",
   "execution_count": 46,
   "metadata": {},
   "outputs": [
    {
     "name": "stdout",
     "output_type": "stream",
     "text": [
      "C\n",
      "O\n",
      "i\n"
     ]
    }
   ],
   "source": [
    "print(\"Olá Curioso!\"[4]);\n",
    "print(\"Olá Curioso!\"[0]);\n",
    "print(\"Olá Curioso!\"[7]);"
   ]
  },
  {
   "attachments": {},
   "cell_type": "markdown",
   "metadata": {},
   "source": [
    "Também é possível pegar os caracteres começando pelo último elemento da cadeia, para isso usa-se índices negativos. O último elemento da cadeia sempre terá o índice -1"
   ]
  },
  {
   "cell_type": "code",
   "execution_count": 49,
   "metadata": {},
   "outputs": [
    {
     "name": "stdout",
     "output_type": "stream",
     "text": [
      "!\n",
      "s\n",
      "i\n"
     ]
    }
   ],
   "source": [
    "print(\"Olá Curioso!\"[-1]);\n",
    "print(\"Olá Curioso!\"[-3]);\n",
    "print(\"Olá Curioso!\"[-5]);"
   ]
  },
  {
   "attachments": {},
   "cell_type": "markdown",
   "metadata": {},
   "source": [
    "Escreva expressões usando a string '0123456789' e o operador de indexação que é avaliado como:\n",
    "\n",
    "(a)'0'\n",
    "\n",
    "(b)'1'\n",
    "\n",
    "(c)'6'\n",
    "\n",
    "(d)'8'\n",
    "\n",
    "(e)'9'\n",
    "\n",
    "Retirado de __[Introdução à Computação Usando Python - um Foco no Desenvolvimento de Aplicações](https://www.amazon.com.br/Introdução-Computação-Python-Desenvolvimento-Aplicações/dp/8521630816)__  pág. 26"
   ]
  },
  {
   "cell_type": "code",
   "execution_count": 51,
   "metadata": {},
   "outputs": [
    {
     "name": "stdout",
     "output_type": "stream",
     "text": [
      "a)  0\n",
      "b)  1\n",
      "c)  6\n",
      "d)  8\n",
      "e)  9\n"
     ]
    }
   ],
   "source": [
    "#a)\n",
    "print(\"a) \", \"0123456789\"[0]);\n",
    "\n",
    "#b)\n",
    "print(\"b) \", \"0123456789\"[1]);\n",
    "\n",
    "#c)\n",
    "print(\"c) \", \"0123456789\"[-4]);\n",
    "\n",
    "#d)\n",
    "print(\"d) \", \"0123456789\"[-2]);\n",
    "\n",
    "#e)\n",
    "print(\"e) \", \"0123456789\"[-1]);"
   ]
  },
  {
   "cell_type": "code",
   "execution_count": null,
   "metadata": {},
   "outputs": [],
   "source": []
  }
 ],
 "metadata": {
  "kernelspec": {
   "display_name": "venv",
   "language": "python",
   "name": "python3"
  },
  "language_info": {
   "codemirror_mode": {
    "name": "ipython",
    "version": 3
   },
   "file_extension": ".py",
   "mimetype": "text/x-python",
   "name": "python",
   "nbconvert_exporter": "python",
   "pygments_lexer": "ipython3",
   "version": "3.10.7"
  },
  "orig_nbformat": 4
 },
 "nbformat": 4,
 "nbformat_minor": 2
}
